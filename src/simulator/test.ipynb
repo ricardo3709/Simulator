{
 "cells": [
  {
   "cell_type": "code",
   "execution_count": null,
   "metadata": {},
   "outputs": [],
   "source": [
    "import os\n",
    "import pickle\n",
    "import copy\n",
    "\"Update\""
   ]
  },
  {
   "cell_type": "code",
   "execution_count": null,
   "metadata": {},
   "outputs": [],
   "source": [
    "ROOT_PATH = os.path.abspath(os.path.join(os.getcwd(), \"../..\"))\n",
    "PATH_MANHATTAN_ALL_PATH_TABLE = f\"{ROOT_PATH}/NYC/NYC_Manhattan_AllPathTable.pickle\"\n",
    "with open(PATH_MANHATTAN_ALL_PATH_TABLE, 'rb') as f:\n",
    "    ALL_PATH_TABLE = pickle.load(f)\n",
    "ALL_PATH_TABLE"
   ]
  },
  {
   "cell_type": "code",
   "execution_count": null,
   "metadata": {},
   "outputs": [],
   "source": [
    "ALL_PATH_TABLE[1][1000]"
   ]
  },
  {
   "cell_type": "code",
   "execution_count": null,
   "metadata": {},
   "outputs": [],
   "source": [
    "import numpy as np\n",
    "\n",
    "table = np.ones((4091, 4091))\n",
    "ROOT_PATH = os.path.abspath(os.path.join(os.getcwd(), \"../..\"))\n",
    "PATH_TEST_TABLE = f\"{ROOT_PATH}/NYC/test_table.pickle\"\n",
    "with open(PATH_TEST_TABLE, 'wb') as f:\n",
    "    pickle.dump(table, f)"
   ]
  },
  {
   "cell_type": "code",
   "execution_count": null,
   "metadata": {},
   "outputs": [],
   "source": [
    "with open(PATH_TEST_TABLE, 'rb') as f:\n",
    "    test_table = pickle.load(f)\n",
    "np.shape(test_table)"
   ]
  },
  {
   "cell_type": "code",
   "execution_count": null,
   "metadata": {},
   "outputs": [],
   "source": []
  }
 ],
 "metadata": {
  "kernelspec": {
   "display_name": "elispe",
   "language": "python",
   "name": "python3"
  },
  "language_info": {
   "codemirror_mode": {
    "name": "ipython",
    "version": 3
   },
   "file_extension": ".py",
   "mimetype": "text/x-python",
   "name": "python",
   "nbconvert_exporter": "python",
   "pygments_lexer": "ipython3",
   "version": "3.8.18"
  }
 },
 "nbformat": 4,
 "nbformat_minor": 2
}
