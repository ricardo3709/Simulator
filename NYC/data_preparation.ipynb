{
 "cells": [
  {
   "cell_type": "code",
   "execution_count": 1,
   "metadata": {},
   "outputs": [],
   "source": [
    "import scipy.io as scipy\n",
    "import os\n",
    "import os.path as osp\n",
    "import pandas as pd\n",
    "import numpy as np\n",
    "import pickle\n",
    "import networkx as nx\n",
    "from tqdm import tqdm"
   ]
  },
  {
   "cell_type": "code",
   "execution_count": 2,
   "metadata": {},
   "outputs": [],
   "source": [
    "BASEDIR = os.getcwd()\n",
    "MAP_NAME = 'NYC_Manhattan_Map.mat'\n",
    "REQ_NAME = 'Requests.mat'\n",
    "OUTPUT_NAME = 'Manhattan_Map' "
   ]
  },
  {
   "cell_type": "code",
   "execution_count": 3,
   "metadata": {},
   "outputs": [],
   "source": [
    "map = scipy.loadmat(osp.join(BASEDIR,MAP_NAME))"
   ]
  },
  {
   "cell_type": "code",
   "execution_count": 4,
   "metadata": {},
   "outputs": [],
   "source": [
    "map_Arcs = pd.DataFrame(map['Arcs']) #ArcsID, Node_Origin, Node_destination, starts from 1 \n",
    "map_CityArcs = pd.DataFrame(map['CityArcs']) #NodeID, NodeID, starting from 1, 1 means connected.\n",
    "map_EdgeTimes = pd.DataFrame(map['EdgeTimes']) #ArcTime in seconds, position is ArcID\n",
    "map_Nodes = pd.DataFrame(map['Nodes']) # Node ID, latitude, longtitude\n",
    "map_dijkstra_A = pd.DataFrame(map['dijkstra_A']) #Unclear\n",
    "map_dijkstra_V = pd.DataFrame(map['dijkstra_V']).T #shortest time matrix, transpose it to align with others (Oid, Did)"
   ]
  },
  {
   "cell_type": "code",
   "execution_count": 5,
   "metadata": {},
   "outputs": [],
   "source": [
    "# Make the index start from 1\n",
    "map_CityArcs.index = map_CityArcs.index + 1\n",
    "map_CityArcs.columns = map_CityArcs.columns + 1\n",
    "map_dijkstra_V.index = map_dijkstra_V.index + 1\n",
    "map_dijkstra_V.columns = map_dijkstra_V.columns + 1"
   ]
  },
  {
   "cell_type": "code",
   "execution_count": 6,
   "metadata": {},
   "outputs": [],
   "source": [
    "map_Arcs.rename(columns={0:'ArcID',1:'Oid',2:'Did'},inplace=True)\n",
    "map_EdgeTimes.rename(columns={0:'ArcTime'},inplace=True)\n",
    "map_Nodes.rename(columns={0:'NodeID',1:'Latitude',2:'Longitude'},inplace=True)"
   ]
  },
  {
   "cell_type": "code",
   "execution_count": 7,
   "metadata": {},
   "outputs": [],
   "source": [
    "map_Nodes['NodeID'] = map_Nodes['NodeID'].astype(int)"
   ]
  },
  {
   "cell_type": "code",
   "execution_count": 8,
   "metadata": {},
   "outputs": [
    {
     "data": {
      "text/plain": [
       "9452.0"
      ]
     },
     "execution_count": 8,
     "metadata": {},
     "output_type": "execute_result"
    }
   ],
   "source": [
    "# Add self-Connection to map_CityArcs\n",
    "for i in range(1, map_Nodes.shape[0]+1):\n",
    "    map_CityArcs.loc[i,i] = 1\n",
    "\n",
    "map_CityArcs.sum().sum()- 4091"
   ]
  },
  {
   "cell_type": "code",
   "execution_count": 9,
   "metadata": {},
   "outputs": [
    {
     "data": {
      "text/html": [
       "<div>\n",
       "<style scoped>\n",
       "    .dataframe tbody tr th:only-of-type {\n",
       "        vertical-align: middle;\n",
       "    }\n",
       "\n",
       "    .dataframe tbody tr th {\n",
       "        vertical-align: top;\n",
       "    }\n",
       "\n",
       "    .dataframe thead th {\n",
       "        text-align: right;\n",
       "    }\n",
       "</style>\n",
       "<table border=\"1\" class=\"dataframe\">\n",
       "  <thead>\n",
       "    <tr style=\"text-align: right;\">\n",
       "      <th></th>\n",
       "      <th>ArcID</th>\n",
       "      <th>ArcTime</th>\n",
       "    </tr>\n",
       "  </thead>\n",
       "  <tbody>\n",
       "    <tr>\n",
       "      <th>0</th>\n",
       "      <td>1</td>\n",
       "      <td>16</td>\n",
       "    </tr>\n",
       "    <tr>\n",
       "      <th>1</th>\n",
       "      <td>2</td>\n",
       "      <td>30</td>\n",
       "    </tr>\n",
       "    <tr>\n",
       "      <th>2</th>\n",
       "      <td>3</td>\n",
       "      <td>38</td>\n",
       "    </tr>\n",
       "    <tr>\n",
       "      <th>3</th>\n",
       "      <td>4</td>\n",
       "      <td>11</td>\n",
       "    </tr>\n",
       "    <tr>\n",
       "      <th>4</th>\n",
       "      <td>5</td>\n",
       "      <td>23</td>\n",
       "    </tr>\n",
       "    <tr>\n",
       "      <th>...</th>\n",
       "      <td>...</td>\n",
       "      <td>...</td>\n",
       "    </tr>\n",
       "    <tr>\n",
       "      <th>9447</th>\n",
       "      <td>9448</td>\n",
       "      <td>37</td>\n",
       "    </tr>\n",
       "    <tr>\n",
       "      <th>9448</th>\n",
       "      <td>9449</td>\n",
       "      <td>93</td>\n",
       "    </tr>\n",
       "    <tr>\n",
       "      <th>9449</th>\n",
       "      <td>9450</td>\n",
       "      <td>45</td>\n",
       "    </tr>\n",
       "    <tr>\n",
       "      <th>9450</th>\n",
       "      <td>9451</td>\n",
       "      <td>22</td>\n",
       "    </tr>\n",
       "    <tr>\n",
       "      <th>9451</th>\n",
       "      <td>9452</td>\n",
       "      <td>52</td>\n",
       "    </tr>\n",
       "  </tbody>\n",
       "</table>\n",
       "<p>9452 rows × 2 columns</p>\n",
       "</div>"
      ],
      "text/plain": [
       "      ArcID  ArcTime\n",
       "0         1       16\n",
       "1         2       30\n",
       "2         3       38\n",
       "3         4       11\n",
       "4         5       23\n",
       "...     ...      ...\n",
       "9447   9448       37\n",
       "9448   9449       93\n",
       "9449   9450       45\n",
       "9450   9451       22\n",
       "9451   9452       52\n",
       "\n",
       "[9452 rows x 2 columns]"
      ]
     },
     "execution_count": 9,
     "metadata": {},
     "output_type": "execute_result"
    }
   ],
   "source": [
    "map_EdgeTimes.insert(0, \"ArcID\", range(1, len(map_EdgeTimes) + 1))\n",
    "map_EdgeTimes"
   ]
  },
  {
   "cell_type": "code",
   "execution_count": 10,
   "metadata": {},
   "outputs": [
    {
     "name": "stderr",
     "output_type": "stream",
     "text": [
      "Building network...: 100%|███████████████████████████████████| 9452/9452 [00:00<00:00, 32017.77it/s]"
     ]
    },
    {
     "name": "stdout",
     "output_type": "stream",
     "text": [
      "Network data loaded.\n",
      "Network has 4091 nodes and 9452 edges.\n"
     ]
    },
    {
     "name": "stderr",
     "output_type": "stream",
     "text": [
      "\n"
     ]
    }
   ],
   "source": [
    "# Generate Graph\n",
    "G = nx.DiGraph()\n",
    "num_edges = len(map_Arcs) #num of edges in the map\n",
    "arcs = tqdm(map_Arcs.iterrows(), total=num_edges, ncols=100, desc='Building network...') #ncols is the width of the progress bar\n",
    "\n",
    "for idx, arcs in arcs:\n",
    "    Oid = arcs['Oid']\n",
    "    Did = arcs['Did']\n",
    "    ArcID = arcs['ArcID']-1 #EdgeTime is indexed from 0\n",
    "    G.add_node(Oid) #add current node to the graph\n",
    "    G.add_node(Did) #add destination node to the graph\n",
    "    G.add_edge(Oid, Did, TimeCost=map_EdgeTimes.iloc[ArcID]['ArcTime']) #add the arc to the graph\n",
    "\n",
    "print('Network data loaded.')\n",
    "print(f'Network has {G.number_of_nodes()} nodes and {G.number_of_edges()} edges.')"
   ]
  },
  {
   "cell_type": "code",
   "execution_count": 11,
   "metadata": {},
   "outputs": [],
   "source": [
    "all_path_matrix = np.zeros((G.number_of_nodes()+1, G.number_of_nodes()+1))\n",
    "num_of_nodes = G.number_of_nodes()"
   ]
  },
  {
   "cell_type": "code",
   "execution_count": 12,
   "metadata": {},
   "outputs": [
    {
     "name": "stderr",
     "output_type": "stream",
     "text": [
      "Computing all_path_matrix: 100%|████████████████████████████████| 4091/4091 [04:58<00:00, 13.72it/s]\n"
     ]
    }
   ],
   "source": [
    "# Compute all path matrix (Efficient!)\n",
    "nodes = tqdm(range(1, num_of_nodes+1), ncols=100, desc='Computing all_path_matrix')\n",
    "for current_node in nodes:\n",
    "    path = dict(nx.single_source_dijkstra_path(G, current_node, cutoff=None, weight='TimeCost'))\n",
    "    # timeCost = dict(nx.single_source_dijkstra_path_length(G, current_node, cutoff=None, weight='TimeCost'))\n",
    "    for target_node_ID in range(1, num_of_nodes+1):\n",
    "        current_path = path[target_node_ID]\n",
    "        for node_idx in range(len(current_path)):\n",
    "            if node_idx == len(current_path)-1: #last node, also handle self-connection route\n",
    "                all_path_matrix[current_path[node_idx]][target_node_ID] = int(target_node_ID)\n",
    "                continue\n",
    "            all_path_matrix[current_path[node_idx]][target_node_ID] = int(current_path[node_idx+1])\n",
    "            \n",
    "\n",
    "with open(BASEDIR + '/NYC_Manhattan_AllPathMatrix.pickle', 'wb') as f:\n",
    "    pickle.dump(all_path_matrix, f)"
   ]
  },
  {
   "cell_type": "code",
   "execution_count": 13,
   "metadata": {},
   "outputs": [],
   "source": [
    "# Save all path time matrix (Efficient!)\n",
    "with open(BASEDIR + '/NYC_Manhattan_AllPathTimeMatrix.pickle', 'wb') as f:\n",
    "     pickle.dump(map_dijkstra_V, f)"
   ]
  },
  {
   "cell_type": "code",
   "execution_count": null,
   "metadata": {},
   "outputs": [],
   "source": [
    "# # Compute all path time matrix (Efficient!)\n",
    "# map_Arcs_with_Time = map_Arcs.merge(map_EdgeTimes, on='ArcID')\n",
    "# all_path_time_matrix = np.zeros((G.number_of_nodes()+1, G.number_of_nodes()+1))\n",
    "\n",
    "# ArcIDs = tqdm(range(1, len(map_Arcs_with_Time)+1), ncols=100, desc='Computing all_path_time_matrix')\n",
    "# for current_Arc_ID in ArcIDs:\n",
    "#     Oid = map_Arcs_with_Time.loc[map_Arcs_with_Time['ArcID'] == current_Arc_ID, 'Oid']\n",
    "#     Oid = Oid.values[0]\n",
    "#     Did = map_Arcs_with_Time.loc[map_Arcs_with_Time['ArcID'] == current_Arc_ID, 'Did']\n",
    "#     Did = Did.values[0]\n",
    "#     ArcTime = map_Arcs_with_Time.loc[map_Arcs_with_Time['ArcID'] == current_Arc_ID, 'ArcTime']\n",
    "#     ArcTime = ArcTime.values[0]\n",
    "#     all_path_time_matrix[Oid][Did] = ArcTime\n",
    "# all_path_time_matrix\n",
    "# with open(BASEDIR + '/NYC_Manhattan_AllPathTimeMatrix.pickle', 'wb') as f:\n",
    "#     pickle.dump(all_path_time_matrix, f)"
   ]
  },
  {
   "cell_type": "code",
   "execution_count": null,
   "metadata": {},
   "outputs": [],
   "source": [
    "# Compute All Path Table (Inefficient!)\n",
    "\n",
    "print('Computing the shortest path for every node pair')\n",
    "num_nodes = G.number_of_nodes()\n",
    "num_edges = G.number_of_edges()\n",
    "\n",
    "all_path_table = {} \n",
    "\n",
    "rng = tqdm(range(1, num_nodes+1), ncols=100, desc='Computing all_path_table')\n",
    "for node in rng:\n",
    "    all_path_table[node] = dict(nx.single_source_dijkstra_path(G, node, cutoff=None, weight='TimeCost'))\n",
    "    path = dict(nx.single_source_dijkstra_path(G, node, cutoff=None, weight='TimeCost'))\n",
    "    timeCost = dict(nx.single_source_dijkstra_path_length(G, node, cutoff=None, weight='TimeCost'))\n",
    "    path_timeCost_dict = {k: (path[k], timeCost[k]) for k in path.keys()}\n",
    "    all_path_table[node] = path_timeCost_dict #store the path and time cost for each node\n",
    "\n",
    "with open(BASEDIR + '/NYC_Manhattan_AllPathTable.pickle', 'wb') as f:\n",
    "    pickle.dump(all_path_table, f)"
   ]
  },
  {
   "cell_type": "code",
   "execution_count": null,
   "metadata": {},
   "outputs": [],
   "source": [
    "# Load Requests File\n",
    "req = scipy.loadmat(osp.join(BASEDIR,REQ_NAME))\n",
    "req_matrix = pd.DataFrame(req['Requests']) #Orid, Did, ReqTime(mins, need to add random secs for this), size of req"
   ]
  },
  {
   "cell_type": "code",
   "execution_count": null,
   "metadata": {},
   "outputs": [],
   "source": [
    "req_matrix.rename(columns={0:'Oid',1:'Did',2:'ReqTime',3:'Size'},inplace=True)\n",
    "req_matrix"
   ]
  },
  {
   "cell_type": "code",
   "execution_count": null,
   "metadata": {},
   "outputs": [],
   "source": [
    "# Convert ReqTime to seconds\n",
    "req_matrix['ReqTime'] = req_matrix['ReqTime'] * 60\n",
    "\n",
    "# Generate random numbers between 0 and 59\n",
    "random_seconds = np.random.randint(0, 60, size=len(req_matrix))\n",
    "\n",
    "# Add random seconds to ReqTime column\n",
    "req_matrix['ReqTime'] += random_seconds\n",
    "req_matrix.sort_values(by='ReqTime', inplace=True)\n",
    "\n",
    "# Add reqID \n",
    "req_matrix.insert(0, \"ReqID\", range(1, len(req_matrix) + 1))\n",
    "\n",
    "# save as csv\n",
    "req_matrix.to_csv(BASEDIR + '/' + 'NYC_Manhattan_Requests.csv', index=False)\n",
    "req_matrix"
   ]
  },
  {
   "cell_type": "code",
   "execution_count": null,
   "metadata": {},
   "outputs": [],
   "source": []
  }
 ],
 "metadata": {
  "kernelspec": {
   "display_name": "elispe",
   "language": "python",
   "name": "python3"
  },
  "language_info": {
   "codemirror_mode": {
    "name": "ipython",
    "version": 3
   },
   "file_extension": ".py",
   "mimetype": "text/x-python",
   "name": "python",
   "nbconvert_exporter": "python",
   "pygments_lexer": "ipython3",
   "version": "3.9.18"
  }
 },
 "nbformat": 4,
 "nbformat_minor": 2
}
