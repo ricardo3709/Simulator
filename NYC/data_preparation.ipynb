{
 "cells": [
  {
   "cell_type": "code",
   "execution_count": null,
   "metadata": {},
   "outputs": [],
   "source": [
    "import scipy.io as scipy\n",
    "import os\n",
    "import os.path as osp\n",
    "import pandas as pd\n",
    "import numpy as np\n",
    "import pickle\n",
    "import networkx as nx\n",
    "from tqdm import tqdm"
   ]
  },
  {
   "cell_type": "code",
   "execution_count": null,
   "metadata": {},
   "outputs": [],
   "source": [
    "BASEDIR = os.getcwd()\n",
    "MAP_NAME = 'NYC_Manhattan_Map.mat'\n",
    "REQ_NAME = 'Requests.mat'\n",
    "OUTPUT_NAME = 'Manhattan_Map' "
   ]
  },
  {
   "cell_type": "code",
   "execution_count": null,
   "metadata": {},
   "outputs": [],
   "source": [
    "map = scipy.loadmat(osp.join(BASEDIR,MAP_NAME))"
   ]
  },
  {
   "cell_type": "code",
   "execution_count": null,
   "metadata": {},
   "outputs": [],
   "source": [
    "map_Arcs = pd.DataFrame(map['Arcs']) #ArcsID, Node_Origin, Node_destination, starts from 1 \n",
    "map_CityArcs = pd.DataFrame(map['CityArcs']) #NodeID, NodeID, starting from 1, 1 means connected.\n",
    "map_EdgeTimes = pd.DataFrame(map['EdgeTimes']) #ArcTime in seconds, position is ArcID\n",
    "map_Nodes = pd.DataFrame(map['Nodes']) # Node ID, latitude, longtitude"
   ]
  },
  {
   "cell_type": "code",
   "execution_count": null,
   "metadata": {},
   "outputs": [],
   "source": [
    "# Make the index start from 1\n",
    "map_CityArcs.index = map_CityArcs.index + 1\n",
    "map_CityArcs.columns = map_CityArcs.columns + 1"
   ]
  },
  {
   "cell_type": "code",
   "execution_count": null,
   "metadata": {},
   "outputs": [],
   "source": [
    "map_Arcs.rename(columns={0:'ArcID',1:'Oid',2:'Did'},inplace=True)\n",
    "map_EdgeTimes.rename(columns={0:'ArcTime'},inplace=True)\n",
    "map_Nodes.rename(columns={0:'NodeID',1:'Latitude',2:'Longitude'},inplace=True)"
   ]
  },
  {
   "cell_type": "code",
   "execution_count": null,
   "metadata": {},
   "outputs": [],
   "source": [
    "map_Nodes['NodeID'] = map_Nodes['NodeID'].astype(int)\n",
    "map_Nodes"
   ]
  },
  {
   "cell_type": "code",
   "execution_count": null,
   "metadata": {},
   "outputs": [],
   "source": [
    "map_Arcs"
   ]
  },
  {
   "cell_type": "code",
   "execution_count": null,
   "metadata": {},
   "outputs": [],
   "source": [
    "# Add self-Connection to map_CityArcs\n",
    "for i in range(1, map_Nodes.shape[0]+1):\n",
    "    map_CityArcs.loc[i,i] = 1\n",
    "\n",
    "map_CityArcs"
   ]
  },
  {
   "cell_type": "code",
   "execution_count": null,
   "metadata": {},
   "outputs": [],
   "source": [
    "map_EdgeTimes.insert(0, \"ArcID\", range(1, len(map_EdgeTimes) + 1))\n",
    "map_EdgeTimes"
   ]
  },
  {
   "cell_type": "code",
   "execution_count": null,
   "metadata": {},
   "outputs": [],
   "source": [
    "# Generate Graph\n",
    "G = nx.DiGraph()\n",
    "num_edges = len(map_Arcs) #num of edges in the map\n",
    "arcs = tqdm(map_Arcs.iterrows(), total=num_edges, ncols=100, desc='Building network...') #ncols is the width of the progress bar\n",
    "\n",
    "for idx, arcs in arcs:\n",
    "    Oid = arcs['Oid']\n",
    "    Did = arcs['Did']\n",
    "    ArcID = arcs['ArcID']-1 #EdgeTime is indexed from 0\n",
    "    G.add_node(Oid) #add current node to the graph\n",
    "    G.add_edge(Oid, Did, TimeCost=map_EdgeTimes.iloc[ArcID]['ArcTime']) #add the arc to the graph\n",
    "\n",
    "print('Network data loaded.')\n",
    "print(f'Network has {G.number_of_nodes()} nodes and {G.number_of_edges()} edges.')"
   ]
  },
  {
   "cell_type": "code",
   "execution_count": null,
   "metadata": {},
   "outputs": [],
   "source": [
    "all_path_matrix = np.zeros((G.number_of_nodes()+1, G.number_of_nodes()+1))\n",
    "num_of_nodes = G.number_of_nodes()"
   ]
  },
  {
   "cell_type": "code",
   "execution_count": null,
   "metadata": {},
   "outputs": [],
   "source": [
    "# Compute all path matrix (Efficient!)\n",
    "nodes = tqdm(range(1, num_of_nodes+1), ncols=100, desc='Computing all_path_matrix')\n",
    "for current_node in nodes:\n",
    "    path = dict(nx.single_source_dijkstra_path(G, current_node, cutoff=None, weight='TimeCost'))\n",
    "    timeCost = dict(nx.single_source_dijkstra_path_length(G, current_node, cutoff=None, weight='TimeCost'))\n",
    "    for target_node_ID in range(1, num_of_nodes+1):\n",
    "        current_path = path[target_node_ID]\n",
    "        for node_idx in range(len(current_path)):\n",
    "            if node_idx == len(current_path)-1: #last node\n",
    "                all_path_matrix[current_path[node_idx]][target_node_ID] = int(target_node_ID)\n",
    "                continue\n",
    "            all_path_matrix[current_path[node_idx]][target_node_ID] = int(current_path[node_idx+1])\n",
    "\n",
    "with open(BASEDIR + '/NYC_Manhattan_AllPathMatrix.pickle', 'wb') as f:\n",
    "    pickle.dump(all_path_matrix, f)"
   ]
  },
  {
   "cell_type": "code",
   "execution_count": null,
   "metadata": {},
   "outputs": [],
   "source": [
    "# Compute all path time matrix (Efficient!)\n",
    "map_Arcs_with_Time = map_Arcs.merge(map_EdgeTimes, on='ArcID')\n",
    "all_path_time_matrix = np.zeros((G.number_of_nodes()+1, G.number_of_nodes()+1))\n",
    "\n",
    "ArcIDs = tqdm(range(1, len(map_Arcs_with_Time)+1), ncols=100, desc='Computing all_path_time_matrix')\n",
    "for current_Arc_ID in ArcIDs:\n",
    "    Oid = map_Arcs_with_Time.loc[map_Arcs_with_Time['ArcID'] == current_Arc_ID, 'Oid']\n",
    "    Oid = Oid.values[0]\n",
    "    Did = map_Arcs_with_Time.loc[map_Arcs_with_Time['ArcID'] == current_Arc_ID, 'Did']\n",
    "    Did = Did.values[0]\n",
    "    ArcTime = map_Arcs_with_Time.loc[map_Arcs_with_Time['ArcID'] == current_Arc_ID, 'ArcTime']\n",
    "    ArcTime = ArcTime.values[0]\n",
    "    all_path_time_matrix[Oid][Did] = ArcTime\n",
    "all_path_time_matrix\n",
    "with open(BASEDIR + '/NYC_Manhattan_AllPathTimeMatrix.pickle', 'wb') as f:\n",
    "    pickle.dump(all_path_time_matrix, f)"
   ]
  },
  {
   "cell_type": "code",
   "execution_count": null,
   "metadata": {},
   "outputs": [],
   "source": [
    "# Compute All Path Table (Inefficient!)\n",
    "\n",
    "print('Computing the shortest path for every node pair')\n",
    "num_nodes = G.number_of_nodes()\n",
    "num_edges = G.number_of_edges()\n",
    "\n",
    "all_path_table = {} \n",
    "\n",
    "rng = tqdm(range(1, num_nodes+1), ncols=100, desc='Computing all_path_table')\n",
    "for node in rng:\n",
    "    all_path_table[node] = dict(nx.single_source_dijkstra_path(G, node, cutoff=None, weight='TimeCost'))\n",
    "    path = dict(nx.single_source_dijkstra_path(G, node, cutoff=None, weight='TimeCost'))\n",
    "    timeCost = dict(nx.single_source_dijkstra_path_length(G, node, cutoff=None, weight='TimeCost'))\n",
    "    path_timeCost_dict = {k: (path[k], timeCost[k]) for k in path.keys()}\n",
    "    all_path_table[node] = path_timeCost_dict #store the path and time cost for each node\n",
    "\n",
    "with open(BASEDIR + '/NYC_Manhattan_AllPathTable.pickle', 'wb') as f:\n",
    "    pickle.dump(all_path_table, f)"
   ]
  },
  {
   "cell_type": "code",
   "execution_count": null,
   "metadata": {},
   "outputs": [],
   "source": [
    "# Load Requests File\n",
    "req = scipy.loadmat(osp.join(BASEDIR,REQ_NAME))\n",
    "req_matrix = pd.DataFrame(req['Requests']) #Orid, Did, ReqTime(mins, need to add random secs for this), size of req"
   ]
  },
  {
   "cell_type": "code",
   "execution_count": null,
   "metadata": {},
   "outputs": [],
   "source": [
    "req_matrix.rename(columns={0:'Oid',1:'Did',2:'ReqTime',3:'Size'},inplace=True)\n",
    "req_matrix"
   ]
  },
  {
   "cell_type": "code",
   "execution_count": null,
   "metadata": {},
   "outputs": [],
   "source": [
    "# Convert ReqTime to seconds\n",
    "req_matrix['ReqTime'] = req_matrix['ReqTime'] * 60\n",
    "\n",
    "# Generate random numbers between 0 and 59\n",
    "random_seconds = np.random.randint(0, 60, size=len(req_matrix))\n",
    "\n",
    "# Add random seconds to ReqTime column\n",
    "req_matrix['ReqTime'] += random_seconds\n",
    "\n",
    "# Add reqID \n",
    "req_matrix.insert(0, \"ReqID\", range(1, len(req_matrix) + 1))\n",
    "\n",
    "# save as csv\n",
    "req_matrix.to_csv(BASEDIR + '/' + 'NYC_Manhattan_Requests.csv', index=False)"
   ]
  }
 ],
 "metadata": {
  "kernelspec": {
   "display_name": "elispe",
   "language": "python",
   "name": "python3"
  },
  "language_info": {
   "codemirror_mode": {
    "name": "ipython",
    "version": 3
   },
   "file_extension": ".py",
   "mimetype": "text/x-python",
   "name": "python",
   "nbconvert_exporter": "python",
   "pygments_lexer": "ipython3",
   "version": "3.9.18"
  }
 },
 "nbformat": 4,
 "nbformat_minor": 2
}
