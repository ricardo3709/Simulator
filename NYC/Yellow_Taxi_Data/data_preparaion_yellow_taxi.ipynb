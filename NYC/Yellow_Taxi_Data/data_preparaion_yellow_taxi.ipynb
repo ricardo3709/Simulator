{
 "cells": [
  {
   "cell_type": "code",
   "execution_count": 15,
   "metadata": {},
   "outputs": [],
   "source": [
    "import pyarrow.parquet as pq\n",
    "import pandas as pd\n",
    "import numpy as np"
   ]
  },
  {
   "cell_type": "code",
   "execution_count": 22,
   "metadata": {},
   "outputs": [
    {
     "data": {
      "text/html": [
       "<div>\n",
       "<style scoped>\n",
       "    .dataframe tbody tr th:only-of-type {\n",
       "        vertical-align: middle;\n",
       "    }\n",
       "\n",
       "    .dataframe tbody tr th {\n",
       "        vertical-align: top;\n",
       "    }\n",
       "\n",
       "    .dataframe thead th {\n",
       "        text-align: right;\n",
       "    }\n",
       "</style>\n",
       "<table border=\"1\" class=\"dataframe\">\n",
       "  <thead>\n",
       "    <tr style=\"text-align: right;\">\n",
       "      <th></th>\n",
       "      <th>tpep_pickup_datetime</th>\n",
       "      <th>passenger_count</th>\n",
       "      <th>PULocationID</th>\n",
       "      <th>DOLocationID</th>\n",
       "    </tr>\n",
       "  </thead>\n",
       "  <tbody>\n",
       "    <tr>\n",
       "      <th>0</th>\n",
       "      <td>2014-01-01 00:02:00</td>\n",
       "      <td>6</td>\n",
       "      <td>146</td>\n",
       "      <td>146</td>\n",
       "    </tr>\n",
       "    <tr>\n",
       "      <th>1</th>\n",
       "      <td>2014-01-01 00:06:00</td>\n",
       "      <td>5</td>\n",
       "      <td>146</td>\n",
       "      <td>146</td>\n",
       "    </tr>\n",
       "    <tr>\n",
       "      <th>2</th>\n",
       "      <td>2014-01-01 00:10:00</td>\n",
       "      <td>5</td>\n",
       "      <td>146</td>\n",
       "      <td>146</td>\n",
       "    </tr>\n",
       "    <tr>\n",
       "      <th>3</th>\n",
       "      <td>2014-01-01 00:54:00</td>\n",
       "      <td>5</td>\n",
       "      <td>264</td>\n",
       "      <td>264</td>\n",
       "    </tr>\n",
       "    <tr>\n",
       "      <th>4</th>\n",
       "      <td>2014-01-01 00:29:18</td>\n",
       "      <td>2</td>\n",
       "      <td>229</td>\n",
       "      <td>262</td>\n",
       "    </tr>\n",
       "    <tr>\n",
       "      <th>...</th>\n",
       "      <td>...</td>\n",
       "      <td>...</td>\n",
       "      <td>...</td>\n",
       "      <td>...</td>\n",
       "    </tr>\n",
       "    <tr>\n",
       "      <th>13782512</th>\n",
       "      <td>2014-01-31 23:22:15</td>\n",
       "      <td>1</td>\n",
       "      <td>148</td>\n",
       "      <td>112</td>\n",
       "    </tr>\n",
       "    <tr>\n",
       "      <th>13782513</th>\n",
       "      <td>2014-01-31 23:43:13</td>\n",
       "      <td>1</td>\n",
       "      <td>255</td>\n",
       "      <td>249</td>\n",
       "    </tr>\n",
       "    <tr>\n",
       "      <th>13782514</th>\n",
       "      <td>2014-01-31 23:04:12</td>\n",
       "      <td>1</td>\n",
       "      <td>236</td>\n",
       "      <td>151</td>\n",
       "    </tr>\n",
       "    <tr>\n",
       "      <th>13782515</th>\n",
       "      <td>2014-01-31 23:19:58</td>\n",
       "      <td>1</td>\n",
       "      <td>143</td>\n",
       "      <td>163</td>\n",
       "    </tr>\n",
       "    <tr>\n",
       "      <th>13782516</th>\n",
       "      <td>2014-01-31 23:33:41</td>\n",
       "      <td>3</td>\n",
       "      <td>161</td>\n",
       "      <td>68</td>\n",
       "    </tr>\n",
       "  </tbody>\n",
       "</table>\n",
       "<p>13782517 rows × 4 columns</p>\n",
       "</div>"
      ],
      "text/plain": [
       "         tpep_pickup_datetime  passenger_count  PULocationID  DOLocationID\n",
       "0         2014-01-01 00:02:00                6           146           146\n",
       "1         2014-01-01 00:06:00                5           146           146\n",
       "2         2014-01-01 00:10:00                5           146           146\n",
       "3         2014-01-01 00:54:00                5           264           264\n",
       "4         2014-01-01 00:29:18                2           229           262\n",
       "...                       ...              ...           ...           ...\n",
       "13782512  2014-01-31 23:22:15                1           148           112\n",
       "13782513  2014-01-31 23:43:13                1           255           249\n",
       "13782514  2014-01-31 23:04:12                1           236           151\n",
       "13782515  2014-01-31 23:19:58                1           143           163\n",
       "13782516  2014-01-31 23:33:41                3           161            68\n",
       "\n",
       "[13782517 rows x 4 columns]"
      ]
     },
     "execution_count": 22,
     "metadata": {},
     "output_type": "execute_result"
    }
   ],
   "source": [
    "trips = pd.read_parquet('yellow_tripdata_2014-01.parquet')\n",
    "reqs = trips[['tpep_pickup_datetime', 'passenger_count', 'PULocationID', 'DOLocationID']]\n",
    "reqs\n"
   ]
  },
  {
   "cell_type": "code",
   "execution_count": 23,
   "metadata": {},
   "outputs": [
    {
     "data": {
      "text/plain": [
       "265"
      ]
     },
     "execution_count": 23,
     "metadata": {},
     "output_type": "execute_result"
    }
   ],
   "source": [
    "np.max(reqs['DOLocationID'])"
   ]
  },
  {
   "cell_type": "code",
   "execution_count": null,
   "metadata": {},
   "outputs": [],
   "source": []
  }
 ],
 "metadata": {
  "kernelspec": {
   "display_name": "elispe",
   "language": "python",
   "name": "python3"
  },
  "language_info": {
   "codemirror_mode": {
    "name": "ipython",
    "version": 3
   },
   "file_extension": ".py",
   "mimetype": "text/x-python",
   "name": "python",
   "nbconvert_exporter": "python",
   "pygments_lexer": "ipython3",
   "version": "3.8.18"
  }
 },
 "nbformat": 4,
 "nbformat_minor": 2
}
