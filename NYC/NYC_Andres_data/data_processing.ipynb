{
 "cells": [
  {
   "cell_type": "code",
   "execution_count": 1,
   "metadata": {},
   "outputs": [],
   "source": [
    "import pandas as pd\n",
    "import os\n",
    "\n",
    "# 设定文件夹路径\n",
    "folder_path = os.getcwd()\n",
    "\n",
    "# 列出所有 CSV 文件\n",
    "csv_files = [file for file in os.listdir(folder_path) if file.endswith('.csv')]\n",
    "\n",
    "# 读取并合并文件\n",
    "df_list = [pd.read_csv(os.path.join(folder_path, file)) for file in csv_files]\n",
    "combined_df = pd.concat(df_list, ignore_index=True)\n",
    "\n",
    "# 保存合并后的 DataFrame 到新的 CSV 文件\n",
    "combined_df.to_csv('combined_file.csv', index=False)"
   ]
  },
  {
   "cell_type": "code",
   "execution_count": 3,
   "metadata": {},
   "outputs": [],
   "source": [
    "req = pd.read_csv('combined_file.csv')\n",
    "req.drop(req.columns[0], axis=1, inplace=True)\n",
    "req.insert(0, \"ReqID\", range(1, len(req) + 1))\n",
    "req.to_csv('combined_file.csv', index=False)"
   ]
  },
  {
   "cell_type": "code",
   "execution_count": null,
   "metadata": {},
   "outputs": [],
   "source": []
  }
 ],
 "metadata": {
  "kernelspec": {
   "display_name": "elispe",
   "language": "python",
   "name": "python3"
  },
  "language_info": {
   "codemirror_mode": {
    "name": "ipython",
    "version": 3
   },
   "file_extension": ".py",
   "mimetype": "text/x-python",
   "name": "python",
   "nbconvert_exporter": "python",
   "pygments_lexer": "ipython3",
   "version": "3.8.18"
  }
 },
 "nbformat": 4,
 "nbformat_minor": 2
}
