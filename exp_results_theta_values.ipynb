{
 "cells": [
  {
   "cell_type": "code",
   "execution_count": 20,
   "metadata": {},
   "outputs": [],
   "source": [
    "# Logbook for different theta values and rejection rates\n",
    "import numpy as np\n",
    "tot_reqs = 10774\n",
    "REJ_LAYERS = 2 # number of layers of rejected rate to consider"
   ]
  },
  {
   "cell_type": "code",
   "execution_count": 39,
   "metadata": {},
   "outputs": [
    {
     "data": {
      "text/plain": [
       "0.350380545758307"
      ]
     },
     "execution_count": 39,
     "metadata": {},
     "output_type": "execute_result"
    }
   ],
   "source": [
    "exp_no = 0\n",
    "theta = 0\n",
    "rejected_num = np.mean([3775])\n",
    "rej_rate = rejected_num/tot_reqs\n",
    "rej_rate"
   ]
  },
  {
   "cell_type": "code",
   "execution_count": 40,
   "metadata": {},
   "outputs": [
    {
     "data": {
      "text/plain": [
       "0.3412845739743828"
      ]
     },
     "execution_count": 40,
     "metadata": {},
     "output_type": "execute_result"
    }
   ],
   "source": [
    "exp_no = 9\n",
    "theta = 0.25\n",
    "rejected_num = np.mean([3677])\n",
    "rej_rate = rejected_num/tot_reqs\n",
    "rej_rate"
   ]
  },
  {
   "cell_type": "code",
   "execution_count": 41,
   "metadata": {},
   "outputs": [
    {
     "data": {
      "text/plain": [
       "0.34898830517913493"
      ]
     },
     "execution_count": 41,
     "metadata": {},
     "output_type": "execute_result"
    }
   ],
   "source": [
    "exp_no = 10\n",
    "theta = 0.5\n",
    "rejected_num = np.mean([3760])\n",
    "rej_rate = rejected_num/tot_reqs\n",
    "rej_rate"
   ]
  },
  {
   "cell_type": "code",
   "execution_count": 42,
   "metadata": {},
   "outputs": [
    {
     "data": {
      "text/plain": [
       "0.34638945609801375"
      ]
     },
     "execution_count": 42,
     "metadata": {},
     "output_type": "execute_result"
    }
   ],
   "source": [
    "exp_no = 11\n",
    "theta = 0.75\n",
    "rejected_num = np.mean([3732])\n",
    "rej_rate = rejected_num/tot_reqs\n",
    "rej_rate"
   ]
  },
  {
   "cell_type": "code",
   "execution_count": 31,
   "metadata": {},
   "outputs": [
    {
     "data": {
      "text/plain": [
       "0.3365200173256605"
      ]
     },
     "execution_count": 31,
     "metadata": {},
     "output_type": "execute_result"
    }
   ],
   "source": [
    "exp_no = 1\n",
    "theta = 1.0\n",
    "rejected_num = np.mean([3590,3643,3644])\n",
    "rej_rate = rejected_num/tot_reqs\n",
    "rej_rate"
   ]
  },
  {
   "cell_type": "code",
   "execution_count": 35,
   "metadata": {},
   "outputs": [
    {
     "data": {
      "text/plain": [
       "0.3411917579357713"
      ]
     },
     "execution_count": 35,
     "metadata": {},
     "output_type": "execute_result"
    }
   ],
   "source": [
    "exp_no = 7\n",
    "theta = 1.25\n",
    "rejected_num = np.mean([3646,3706])\n",
    "rej_rate = rejected_num/tot_reqs\n",
    "rej_rate"
   ]
  },
  {
   "cell_type": "code",
   "execution_count": 33,
   "metadata": {},
   "outputs": [
    {
     "data": {
      "text/plain": [
       "0.3507827485922901"
      ]
     },
     "execution_count": 33,
     "metadata": {},
     "output_type": "execute_result"
    }
   ],
   "source": [
    "exp_no = 6\n",
    "theta = 1.5\n",
    "rejected_num = np.mean([3705,3853,3780])\n",
    "rej_rate = rejected_num/tot_reqs\n",
    "rej_rate"
   ]
  },
  {
   "cell_type": "code",
   "execution_count": 36,
   "metadata": {},
   "outputs": [
    {
     "data": {
      "text/plain": [
       "0.3385000928160386"
      ]
     },
     "execution_count": 36,
     "metadata": {},
     "output_type": "execute_result"
    }
   ],
   "source": [
    "exp_no = 8\n",
    "theta = 1.75\n",
    "rejected_num = np.mean([3667,3627])\n",
    "rej_rate = rejected_num/tot_reqs\n",
    "rej_rate"
   ]
  },
  {
   "cell_type": "code",
   "execution_count": 29,
   "metadata": {},
   "outputs": [
    {
     "data": {
      "text/plain": [
       "0.33587030505538024"
      ]
     },
     "execution_count": 29,
     "metadata": {},
     "output_type": "execute_result"
    }
   ],
   "source": [
    "exp_no = 2\n",
    "theta = 2.0\n",
    "rejected_num = np.mean([3535,3651,3670])\n",
    "rej_rate = rejected_num/tot_reqs\n",
    "rej_rate"
   ]
  },
  {
   "cell_type": "code",
   "execution_count": 24,
   "metadata": {},
   "outputs": [
    {
     "data": {
      "text/plain": [
       "0.3437906070168925"
      ]
     },
     "execution_count": 24,
     "metadata": {},
     "output_type": "execute_result"
    }
   ],
   "source": [
    "exp_no = 5\n",
    "theta = 2.5\n",
    "rejected_num = 3704\n",
    "rej_rate = rejected_num/tot_reqs\n",
    "rej_rate"
   ]
  },
  {
   "cell_type": "code",
   "execution_count": 25,
   "metadata": {},
   "outputs": [
    {
     "data": {
      "text/plain": [
       "0.3495452014108038"
      ]
     },
     "execution_count": 25,
     "metadata": {},
     "output_type": "execute_result"
    }
   ],
   "source": [
    "exp_no = 3\n",
    "theta = 3.0\n",
    "rejected_num = 3766\n",
    "rej_rate = rejected_num/tot_reqs\n",
    "rej_rate"
   ]
  },
  {
   "cell_type": "code",
   "execution_count": 26,
   "metadata": {},
   "outputs": [
    {
     "data": {
      "text/plain": [
       "0.3546500835344347"
      ]
     },
     "execution_count": 26,
     "metadata": {},
     "output_type": "execute_result"
    }
   ],
   "source": [
    "exp_no = 4\n",
    "theta = 4.0\n",
    "rejected_num = 3821\n",
    "rej_rate = rejected_num/tot_reqs\n",
    "rej_rate"
   ]
  },
  {
   "cell_type": "code",
   "execution_count": 43,
   "metadata": {},
   "outputs": [
    {
     "data": {
      "image/png": "[encoded data removed]",
      "text/plain": [
       "<Figure size 640x480 with 1 Axes>"
      ]
     },
     "metadata": {},
     "output_type": "display_data"
    }
   ],
   "source": [
    "import matplotlib.pyplot as plt\n",
    "\n",
    "# Data\n",
    "theta_list = [0, 0.25, 0.5, 0.75, 1.0, 1.25, 1.5, 1.75, 2.0, 2.5, 3.0, 4.0]\n",
    "rej_rate_list = [0.3497, 0.3414, 0.3490, 0.3464, 0.3333, 0.3409, 0.3512, 0.3376, 0.3407, 0.3442, 0.3499, 0.3546]\n",
    "\n",
    "# Plot\n",
    "plt.plot(theta_list, rej_rate_list, marker='o')\n",
    "plt.xlabel('Theta')\n",
    "plt.ylabel('Rejection Rate')\n",
    "plt.title('Rejection Rates vs. Thetas')\n",
    "plt.grid(True)\n",
    "plt.show()\n"
   ]
  },
  {
   "cell_type": "code",
   "execution_count": null,
   "metadata": {},
   "outputs": [],
   "source": []
  }
 ],
 "metadata": {
  "kernelspec": {
   "display_name": "amod",
   "language": "python",
   "name": "python3"
  },
  "language_info": {
   "codemirror_mode": {
    "name": "ipython",
    "version": 3
   },
   "file_extension": ".py",
   "mimetype": "text/x-python",
   "name": "python",
   "nbconvert_exporter": "python",
   "pygments_lexer": "ipython3",
   "version": "3.9.18"
  }
 },
 "nbformat": 4,
 "nbformat_minor": 2
}
